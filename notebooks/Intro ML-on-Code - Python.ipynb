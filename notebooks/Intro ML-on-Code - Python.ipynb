{
 "cells": [
  {
   "cell_type": "code",
   "execution_count": 1,
   "metadata": {},
   "outputs": [
    {
     "name": "stdout",
     "output_type": "stream",
     "text": [
      "/repositories\r\n",
      "/repositories/siva\r\n",
      "/repositories/siva/latest\r\n",
      "/repositories/siva/latest/5d\r\n",
      "/repositories/siva/latest/5d/5d7303c49ac984a9fec60523f2d5297682e16646.siva\r\n",
      "/repositories/siva/latest/65\r\n",
      "/repositories/siva/latest/65/65c397a8673c0f4b98e3867e5fd6efdaa7d9ccd2.siva\r\n",
      "/repositories/siva/latest/6b\r\n",
      "/repositories/siva/latest/6b/6bc52531e707eb4b9b875c418a84f2e100ff6e73.siva\r\n",
      "/repositories/siva/latest/cc\r\n",
      "/repositories/siva/latest/cc/cce947b98a050c6d356bc6ba95030254914027b1.siva\r\n"
     ]
    }
   ],
   "source": [
    "! find /repositories"
   ]
  },
  {
   "cell_type": "code",
   "execution_count": 27,
   "metadata": {},
   "outputs": [],
   "source": [
    "from sourced.engine import Engine\n",
    "from pyspark.sql import SparkSession\n",
    "from pyspark.sql.functions import *\n",
    "from pyspark.sql import Row"
   ]
  },
  {
   "cell_type": "code",
   "execution_count": 25,
   "metadata": {},
   "outputs": [],
   "source": [
    "spark = SparkSession.builder\\\n",
    "  .master(\"local[*]\").appName(\"workshop\").getOrCreate()\n",
    "\n",
    "engine = Engine(spark, \"/repositories/siva/latest/\", \"siva\")"
   ]
  },
  {
   "cell_type": "code",
   "execution_count": 4,
   "metadata": {},
   "outputs": [],
   "source": []
  },
  {
   "cell_type": "code",
   "execution_count": 6,
   "metadata": {},
   "outputs": [
    {
     "data": {
      "text/plain": [
       "4"
      ]
     },
     "execution_count": 6,
     "metadata": {},
     "output_type": "execute_result"
    }
   ],
   "source": [
    "engine.repositories.count()\n"
   ]
  },
  {
   "cell_type": "code",
   "execution_count": 7,
   "metadata": {},
   "outputs": [
    {
     "name": "stdout",
     "output_type": "stream",
     "text": [
      "+--------------------------+\n",
      "|id                        |\n",
      "+--------------------------+\n",
      "|github.com/src-d/go-git   |\n",
      "|github.com/src-d/hercules |\n",
      "|github.com/src-d/enry     |\n",
      "|github.com/src-d/go-kallax|\n",
      "+--------------------------+\n",
      "\n"
     ]
    }
   ],
   "source": [
    "engine.repositories.select('id').distinct().show(10, False)\n"
   ]
  },
  {
   "cell_type": "code",
   "execution_count": 8,
   "metadata": {},
   "outputs": [
    {
     "name": "stdout",
     "output_type": "stream",
     "text": [
      "+--------------------+---------------+--------------------+---------+\n",
      "|       repository_id|           name|                hash|is_remote|\n",
      "+--------------------+---------------+--------------------+---------+\n",
      "|github.com/src-d/...|refs/heads/HEAD|98916b85c6fe08f2b...|     true|\n",
      "|github.com/src-d/...|refs/heads/HEAD|2a161296e79cc1c98...|     true|\n",
      "|github.com/src-d/...|refs/heads/HEAD|0db3b4b5536e6dc4d...|     true|\n",
      "|github.com/src-d/...|refs/heads/HEAD|014493bed229e27d8...|     true|\n",
      "+--------------------+---------------+--------------------+---------+\n",
      "\n"
     ]
    }
   ],
   "source": [
    "engine.repositories.references.head_ref.show()"
   ]
  },
  {
   "cell_type": "code",
   "execution_count": 9,
   "metadata": {},
   "outputs": [
    {
     "name": "stdout",
     "output_type": "stream",
     "text": [
      "+--------------------------+----------------------------------------+\n",
      "|repository_id             |hash                                    |\n",
      "+--------------------------+----------------------------------------+\n",
      "|github.com/src-d/go-git   |98916b85c6fe08f2be5a235db43957d493ba37b9|\n",
      "|github.com/src-d/go-kallax|2a161296e79cc1c98a5dc303deecc223abb482e5|\n",
      "|github.com/src-d/enry     |0db3b4b5536e6dc4d9109d42897c00a5d92af0a7|\n",
      "|github.com/src-d/hercules |014493bed229e27d8a18b8d104e9ac062ef799e1|\n",
      "+--------------------------+----------------------------------------+\n",
      "\n"
     ]
    }
   ],
   "source": [
    "engine.repositories.references.head_ref.select('repository_id', 'hash').show(10, False)\n"
   ]
  },
  {
   "cell_type": "code",
   "execution_count": 11,
   "metadata": {},
   "outputs": [],
   "source": [
    "repos = engine.repositories\n",
    "head_refs = repos.references.head_ref\n",
    "tree_entries = head_refs.commits.tree_entries"
   ]
  },
  {
   "cell_type": "code",
   "execution_count": 22,
   "metadata": {},
   "outputs": [],
   "source": [
    "md = tree_entries.filter(tree_entries.path.like(\"%.md\"))"
   ]
  },
  {
   "cell_type": "code",
   "execution_count": 18,
   "metadata": {},
   "outputs": [
    {
     "data": {
      "text/plain": [
       "18"
      ]
     },
     "execution_count": 18,
     "metadata": {},
     "output_type": "execute_result"
    }
   ],
   "source": [
    "md.count()"
   ]
  },
  {
   "cell_type": "code",
   "execution_count": 20,
   "metadata": {},
   "outputs": [
    {
     "name": "stdout",
     "output_type": "stream",
     "text": [
      "root\n",
      " |-- commit_hash: string (nullable = false)\n",
      " |-- repository_id: string (nullable = false)\n",
      " |-- reference_name: string (nullable = false)\n",
      " |-- path: string (nullable = false)\n",
      " |-- blob: string (nullable = false)\n",
      "\n"
     ]
    }
   ],
   "source": [
    "md.printSchema()"
   ]
  },
  {
   "cell_type": "code",
   "execution_count": 21,
   "metadata": {},
   "outputs": [
    {
     "name": "stdout",
     "output_type": "stream",
     "text": [
      "+--------------------------+-----------------------------------------+----------------------------------------+\n",
      "|repository_id             |path                                     |commit_hash                             |\n",
      "+--------------------------+-----------------------------------------+----------------------------------------+\n",
      "|github.com/src-d/go-git   |CODE_OF_CONDUCT.md                       |98916b85c6fe08f2be5a235db43957d493ba37b9|\n",
      "|github.com/src-d/go-git   |COMPATIBILITY.md                         |98916b85c6fe08f2be5a235db43957d493ba37b9|\n",
      "|github.com/src-d/go-git   |CONTRIBUTING.md                          |98916b85c6fe08f2be5a235db43957d493ba37b9|\n",
      "|github.com/src-d/go-git   |README.md                                |98916b85c6fe08f2be5a235db43957d493ba37b9|\n",
      "|github.com/src-d/go-git   |_examples/README.md                      |98916b85c6fe08f2be5a235db43957d493ba37b9|\n",
      "|github.com/src-d/go-git   |_examples/storage/README.md              |98916b85c6fe08f2be5a235db43957d493ba37b9|\n",
      "|github.com/src-d/go-kallax|README.md                                |2a161296e79cc1c98a5dc303deecc223abb482e5|\n",
      "|github.com/src-d/enry     |README.md                                |0db3b4b5536e6dc4d9109d42897c00a5d92af0a7|\n",
      "|github.com/src-d/enry     |java/README.md                           |0db3b4b5536e6dc4d9109d42897c00a5d92af0a7|\n",
      "|github.com/src-d/hercules |CODE_OF_CONDUCT.md                       |014493bed229e27d8a18b8d104e9ac062ef799e1|\n",
      "|github.com/src-d/hercules |CONTRIBUTING.md                          |014493bed229e27d8a18b8d104e9ac062ef799e1|\n",
      "|github.com/src-d/hercules |LICENSE.md                               |014493bed229e27d8a18b8d104e9ac062ef799e1|\n",
      "|github.com/src-d/hercules |MAINTAINERS.md                           |014493bed229e27d8a18b8d104e9ac062ef799e1|\n",
      "|github.com/src-d/hercules |OCTOPUS.md                               |014493bed229e27d8a18b8d104e9ac062ef799e1|\n",
      "|github.com/src-d/hercules |PLUGINS.md                               |014493bed229e27d8a18b8d104e9ac062ef799e1|\n",
      "|github.com/src-d/hercules |README.md                                |014493bed229e27d8a18b8d104e9ac062ef799e1|\n",
      "|github.com/src-d/hercules |doc/PIPELINE_ITEMS.md                    |014493bed229e27d8a18b8d104e9ac062ef799e1|\n",
      "|github.com/src-d/hercules |vendor/github.com/jeffail/tunny/README.md|014493bed229e27d8a18b8d104e9ac062ef799e1|\n",
      "+--------------------------+-----------------------------------------+----------------------------------------+\n",
      "\n"
     ]
    }
   ],
   "source": [
    "md.select(\"repository_id\", \"path\", \"commit_hash\").show(20, False)"
   ]
  },
  {
   "cell_type": "code",
   "execution_count": 26,
   "metadata": {},
   "outputs": [],
   "source": [
    "# https://spark.apache.org/docs/latest/sql-programming-guide.html\n",
    "# "
   ]
  },
  {
   "cell_type": "code",
   "execution_count": 41,
   "metadata": {},
   "outputs": [],
   "source": [
    "import os\n",
    "from pyspark.sql.types import StringType\n",
    "from pyspark.sql.functions import udf\n",
    "\n",
    "filename_udf = udf(lambda path: os.path.splitext(path)[0], StringType())\n",
    "extension_udf = udf(lambda path: os.path.splitext(path)[1], StringType())\n"
   ]
  },
  {
   "cell_type": "code",
   "execution_count": 46,
   "metadata": {},
   "outputs": [],
   "source": [
    "ext = tree_entries.select(\"path\")\\\n",
    "    .withColumn(\"filename\", filename_udf(tree_entries.path))\\\n",
    "    .withColumn(\"extension\", extension_udf(tree_entries.path))"
   ]
  },
  {
   "cell_type": "code",
   "execution_count": 47,
   "metadata": {},
   "outputs": [
    {
     "name": "stdout",
     "output_type": "stream",
     "text": [
      "+--------------------+--------------------+---------+\n",
      "|                path|            filename|extension|\n",
      "+--------------------+--------------------+---------+\n",
      "|          .gitignore|          .gitignore|         |\n",
      "|         .travis.yml|             .travis|     .yml|\n",
      "|  CODE_OF_CONDUCT.md|     CODE_OF_CONDUCT|      .md|\n",
      "|    COMPATIBILITY.md|       COMPATIBILITY|      .md|\n",
      "|     CONTRIBUTING.md|        CONTRIBUTING|      .md|\n",
      "|                 DCO|                 DCO|         |\n",
      "|             LICENSE|             LICENSE|         |\n",
      "|         MAINTAINERS|         MAINTAINERS|         |\n",
      "|            Makefile|            Makefile|         |\n",
      "|           README.md|              README|      .md|\n",
      "| _examples/README.md|    _examples/README|      .md|\n",
      "|_examples/branch/...|_examples/branch/...|      .go|\n",
      "|_examples/checkou...|_examples/checkou...|      .go|\n",
      "|_examples/clone/m...|_examples/clone/main|      .go|\n",
      "|_examples/commit/...|_examples/commit/...|      .go|\n",
      "| _examples/common.go|    _examples/common|      .go|\n",
      "|_examples/common_...|_examples/common_...|      .go|\n",
      "|_examples/context...|_examples/context...|      .go|\n",
      "|_examples/custom_...|_examples/custom_...|      .go|\n",
      "|_examples/log/mai...|  _examples/log/main|      .go|\n",
      "+--------------------+--------------------+---------+\n",
      "only showing top 20 rows\n",
      "\n"
     ]
    }
   ],
   "source": [
    "ext.show()"
   ]
  },
  {
   "cell_type": "code",
   "execution_count": 50,
   "metadata": {},
   "outputs": [],
   "source": [
    "filesGroupByExt = ext.groupBy(\"extension\").count().orderBy(desc(\"count\"))"
   ]
  },
  {
   "cell_type": "code",
   "execution_count": 53,
   "metadata": {},
   "outputs": [
    {
     "name": "stdout",
     "output_type": "stream",
     "text": [
      "+-----------+-----+\n",
      "|  extension|count|\n",
      "+-----------+-----+\n",
      "|        .go|  468|\n",
      "|           |   27|\n",
      "|        .md|   18|\n",
      "|       .png|   11|\n",
      "|      .tmpl|   11|\n",
      "|      .gold|   11|\n",
      "|       .yml|    7|\n",
      "|       .csv|    6|\n",
      "|      .java|    6|\n",
      "|       .tgo|    5|\n",
      "|        .py|    5|\n",
      "|        .pb|    4|\n",
      "|        .sh|    3|\n",
      "|       .dot|    3|\n",
      "|       .txt|    2|\n",
      "|      .bash|    2|\n",
      "|     .proto|    2|\n",
      "|        .rb|    2|\n",
      "|       .sbt|    2|\n",
      "|.properties|    1|\n",
      "|       .svg|    1|\n",
      "|        .gp|    1|\n",
      "|  .template|    1|\n",
      "|       .enc|    1|\n",
      "+-----------+-----+\n",
      "\n"
     ]
    }
   ],
   "source": [
    "filesGroupByExt.show(25)"
   ]
  },
  {
   "cell_type": "code",
   "execution_count": null,
   "metadata": {},
   "outputs": [],
   "source": []
  },
  {
   "cell_type": "code",
   "execution_count": 57,
   "metadata": {},
   "outputs": [
    {
     "name": "stdout",
     "output_type": "stream",
     "text": [
      "root\n",
      " |-- blob_id: string (nullable = true)\n",
      " |-- commit_hash: string (nullable = true)\n",
      " |-- repository_id: string (nullable = true)\n",
      " |-- reference_name: string (nullable = true)\n",
      " |-- content: binary (nullable = true)\n",
      " |-- is_binary: boolean (nullable = false)\n",
      " |-- path: string (nullable = true)\n",
      " |-- lang: string (nullable = true)\n",
      "\n"
     ]
    }
   ],
   "source": [
    "tree_entries.blobs.classify_languages()\\\n",
    "    .printSchema()"
   ]
  },
  {
   "cell_type": "code",
   "execution_count": 67,
   "metadata": {},
   "outputs": [],
   "source": [
    "langs = tree_entries.blobs.classify_languages()\n",
    "\n",
    "extByLang = langs.select(\"path\", \"lang\")\\\n",
    "    .withColumn(\"filename\", filename_udf(langs.path))\\\n",
    "    .withColumn(\"extension\", extension_udf(langs.path))\\\n",
    "    .groupBy(\"extension\", \"lang\").count().orderBy(desc(\"count\"))"
   ]
  },
  {
   "cell_type": "code",
   "execution_count": 68,
   "metadata": {},
   "outputs": [
    {
     "data": {
      "text/plain": [
       "29"
      ]
     },
     "execution_count": 68,
     "metadata": {},
     "output_type": "execute_result"
    }
   ],
   "source": [
    "extByLang.count()"
   ]
  },
  {
   "cell_type": "code",
   "execution_count": 70,
   "metadata": {},
   "outputs": [
    {
     "name": "stdout",
     "output_type": "stream",
     "text": [
      "+-----------+---------------+-----+\n",
      "|  extension|           lang|count|\n",
      "+-----------+---------------+-----+\n",
      "|        .go|             Go|  468|\n",
      "|        .md|       Markdown|   18|\n",
      "|           |           null|   15|\n",
      "|      .tmpl|           null|   11|\n",
      "|       .png|           null|   11|\n",
      "|      .gold|           null|   11|\n",
      "|       .yml|           YAML|    7|\n",
      "|       .csv|            CSV|    6|\n",
      "|           |       Makefile|    6|\n",
      "|      .java|           Java|    6|\n",
      "|        .py|         Python|    5|\n",
      "|       .tgo|           null|    5|\n",
      "|           |           Text|    4|\n",
      "|        .sh|          Shell|    3|\n",
      "|       .dot| Graphviz (DOT)|    3|\n",
      "|     .proto|Protocol Buffer|    2|\n",
      "|       .sbt|          Scala|    2|\n",
      "|      .bash|          Shell|    2|\n",
      "|        .pb|           null|    2|\n",
      "|        .pb|      PureBasic|    2|\n",
      "|       .txt|           Text|    2|\n",
      "|        .rb|           Ruby|    2|\n",
      "|           |          Shell|    1|\n",
      "|           |     Dockerfile|    1|\n",
      "|.properties|            INI|    1|\n",
      "|        .gp|        Gnuplot|    1|\n",
      "|       .enc|           null|    1|\n",
      "|  .template|           null|    1|\n",
      "|       .svg|            SVG|    1|\n",
      "+-----------+---------------+-----+\n",
      "\n"
     ]
    }
   ],
   "source": [
    "extByLang.show(30, True)"
   ]
  },
  {
   "cell_type": "code",
   "execution_count": null,
   "metadata": {},
   "outputs": [],
   "source": []
  }
 ],
 "metadata": {
  "kernelspec": {
   "display_name": "Python 3",
   "language": "python",
   "name": "python3"
  },
  "language_info": {
   "codemirror_mode": {
    "name": "ipython",
    "version": 3
   },
   "file_extension": ".py",
   "mimetype": "text/x-python",
   "name": "python",
   "nbconvert_exporter": "python",
   "pygments_lexer": "ipython3",
   "version": "3.5.3"
  }
 },
 "nbformat": 4,
 "nbformat_minor": 2
}
